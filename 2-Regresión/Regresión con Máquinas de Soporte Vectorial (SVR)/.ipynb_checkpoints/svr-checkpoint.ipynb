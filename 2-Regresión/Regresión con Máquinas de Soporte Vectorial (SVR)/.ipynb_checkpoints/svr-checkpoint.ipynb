{
 "cells": [
  {
   "cell_type": "markdown",
   "metadata": {
    "colab_type": "text",
    "id": "KdUFcDsdzRyw"
   },
   "source": [
    "# Clonamos el repositorio para obtener los dataSet"
   ]
  },
  {
   "cell_type": "code",
   "execution_count": null,
   "metadata": {
    "colab": {
     "base_uri": "https://localhost:8080/",
     "height": 34
    },
    "colab_type": "code",
    "id": "mHReFf3_y9ms",
    "outputId": "c17545fd-c7dd-42c2-e3ad-4f55db21611f"
   },
   "outputs": [],
   "source": [
    "!git clone https://github.com/joanby/machinelearning-az.git"
   ]
  },
  {
   "cell_type": "markdown",
   "metadata": {
    "colab_type": "text",
    "id": "vNKZXgtKzU2x"
   },
   "source": [
    "# Damos acceso a nuestro Drive"
   ]
  },
  {
   "cell_type": "code",
   "execution_count": null,
   "metadata": {
    "colab": {
     "base_uri": "https://localhost:8080/",
     "height": 54
    },
    "colab_type": "code",
    "id": "5gu7KWnzzUQ0",
    "outputId": "abe602b4-3a59-470e-d508-037c6966002b"
   },
   "outputs": [],
   "source": [
    "from google.colab import drive\n",
    "drive.mount('/content/drive')"
   ]
  },
  {
   "cell_type": "markdown",
   "metadata": {
    "colab_type": "text",
    "id": "1gUxIkHWzfHV"
   },
   "source": [
    "# Test it"
   ]
  },
  {
   "cell_type": "code",
   "execution_count": null,
   "metadata": {
    "colab": {},
    "colab_type": "code",
    "id": "mIQt3jBMzYRE"
   },
   "outputs": [],
   "source": [
    "!ls '/content/drive/My Drive' "
   ]
  },
  {
   "cell_type": "markdown",
   "metadata": {
    "colab_type": "text",
    "id": "mHsK36uN0XB-"
   },
   "source": [
    "#Google colab tools"
   ]
  },
  {
   "cell_type": "code",
   "execution_count": null,
   "metadata": {
    "colab": {},
    "colab_type": "code",
    "id": "kTzwfUPWzrm4"
   },
   "outputs": [],
   "source": [
    "from google.colab import files # Para manejar los archivos y, por ejemplo, exportar a su navegador\n",
    "import glob # Para manejar los archivos y, por ejemplo, exportar a su navegador\n",
    "from google.colab import drive # Montar tu Google drive"
   ]
  },
  {
   "cell_type": "markdown",
   "metadata": {
    "colab_type": "text",
    "id": "uab9OAbV8hYN"
   },
   "source": [
    "#Instalar dependendias"
   ]
  },
  {
   "cell_type": "code",
   "execution_count": null,
   "metadata": {
    "colab": {
     "base_uri": "https://localhost:8080/",
     "height": 122
    },
    "colab_type": "code",
    "id": "qukjDgj98kE4",
    "outputId": "95b5f2b5-7149-436a-b1fb-ad567cc783bd"
   },
   "outputs": [],
   "source": [
    "!pip install sklearn"
   ]
  },
  {
   "cell_type": "markdown",
   "metadata": {
    "colab_type": "text",
    "id": "3yFpBwmNz70v"
   },
   "source": [
    "# SVR"
   ]
  },
  {
   "cell_type": "markdown",
   "metadata": {
    "colab_type": "text",
    "id": "v8OxSXXSz-OP"
   },
   "source": [
    "# Cómo importar las librerías\n"
   ]
  },
  {
   "cell_type": "code",
   "execution_count": 30,
   "metadata": {
    "colab": {},
    "colab_type": "code",
    "id": "edZX51YLzs59"
   },
   "outputs": [],
   "source": [
    "import numpy as np\n",
    "import matplotlib.pyplot as plt\n",
    "import pandas as pd"
   ]
  },
  {
   "cell_type": "markdown",
   "metadata": {
    "colab_type": "text",
    "id": "8XfXlqtF0B58"
   },
   "source": [
    "# Importar el data set\n"
   ]
  },
  {
   "cell_type": "code",
   "execution_count": 31,
   "metadata": {
    "colab": {},
    "colab_type": "code",
    "id": "-nnozsHsz_-N"
   },
   "outputs": [],
   "source": [
    "dataset = pd.read_csv('Position_Salaries.csv')\n",
    "X = dataset.iloc[:, 1:2].values\n",
    "y = dataset.iloc[:, 2].values\n"
   ]
  },
  {
   "cell_type": "markdown",
   "metadata": {
    "colab_type": "text",
    "id": "SsVEdPzf4XmV"
   },
   "source": [
    "# Dividir el data set en conjunto de entrenamiento y conjunto de testing\n"
   ]
  },
  {
   "cell_type": "code",
   "execution_count": null,
   "metadata": {
    "colab": {},
    "colab_type": "code",
    "id": "6E8kYa1B4Y4D"
   },
   "outputs": [],
   "source": [
    "# No tenemos los suficientes datos para dividir el set\n",
    "\"\"\"\n",
    "from sklearn.model_selection import train_test_split\n",
    "X_train, X_test, y_train, y_test = train_test_split(X, y, test_size = 0.2, random_state = 0)\n",
    "\"\"\""
   ]
  },
  {
   "cell_type": "markdown",
   "metadata": {
    "colab_type": "text",
    "id": "5AH_uCEz68rb"
   },
   "source": [
    "# Escalado de variables"
   ]
  },
  {
   "cell_type": "code",
   "execution_count": 32,
   "metadata": {
    "colab": {
     "base_uri": "https://localhost:8080/",
     "height": 54
    },
    "colab_type": "code",
    "id": "oeuAy8LI69vi",
    "outputId": "10346439-d6ac-4abd-b5bb-033e9a284716"
   },
   "outputs": [],
   "source": [
    "# Vemos que ocurre con la predicción, para luego determinar si con un escalado mejoran los datos o no\n",
    "from sklearn.preprocessing import StandardScaler\n",
    "sc_X = StandardScaler()\n",
    "sc_y = StandardScaler()\n",
    "X = sc_X.fit_transform(X)\n",
    "y = sc_y.fit_transform(y.reshape(-1,1))\n",
    "# La mayoria de algoritmos de ML no suelen necesitar del escalado de la matriz de características, ya que los modelos están preparados para trabajar con datos sin escalar, o escalándolos en el proceso\n",
    "# Un posible problema en este caso podría ser por la discrepancia entre el rango de valores de X y Y, por lo que intentaremos ver si mejora el resultado escalándolos\n",
    "# Podemos ver como se distribuyen los datos para analizar si es conveniente o no normalizarlos con Box-Cox"
   ]
  },
  {
   "cell_type": "markdown",
   "metadata": {
    "colab_type": "text",
    "id": "cgweTaJ67BOB"
   },
   "source": [
    "# Ajustar la regresión con el dataset"
   ]
  },
  {
   "cell_type": "code",
   "execution_count": 33,
   "metadata": {
    "colab": {},
    "colab_type": "code",
    "id": "2AwTWELX7DZQ"
   },
   "outputs": [],
   "source": [
    "from sklearn.svm import SVR"
   ]
  },
  {
   "cell_type": "code",
   "execution_count": 34,
   "metadata": {
    "colab": {
     "base_uri": "https://localhost:8080/",
     "height": 34
    },
    "colab_type": "code",
    "id": "9xFOzJL77Fm4",
    "outputId": "4a6494d7-5a6e-4eed-e3f4-efa27b8317f8"
   },
   "outputs": [
    {
     "name": "stdout",
     "output_type": "stream",
     "text": [
      "{'C': 1.0, 'cache_size': 200, 'coef0': 0.0, 'degree': 3, 'epsilon': 0.1, 'gamma': 'scale', 'kernel': 'rbf', 'max_iter': -1, 'shrinking': True, 'tol': 0.001, 'verbose': False}\n",
      "0.7516001070620798\n"
     ]
    },
    {
     "name": "stderr",
     "output_type": "stream",
     "text": [
      "C:\\ProgramData\\anaconda3\\Lib\\site-packages\\sklearn\\utils\\validation.py:1310: DataConversionWarning: A column-vector y was passed when a 1d array was expected. Please change the shape of y to (n_samples, ), for example using ravel().\n",
      "  y = column_or_1d(y, warn=True)\n"
     ]
    }
   ],
   "source": [
    "# Con SVR podemos realizar regresiones no lineales\n",
    "regression = SVR(kernel = \"rbf\") # ver parámetros (C:ajustar valor en caso de Overffiting, kernel:cambiamos el núcleo para obtener una SVM lineal, poly(aclarar grados), gaussiana(rbf, usada para datos que se distribuyen de manera normal), sigmoid,etc)\n",
    "# Si nuestro problema no es lineal, probar con sigmoid, rbf, poly\n",
    "regression.fit(X, y)\n",
    "print(regression.get_params()) # vemos los parámetros \n",
    "print(regression.score(X,y)) # vemos el grado de ajuste a los datos de entrenamiento (sin escalado era -0,17; con escalado 0,75)"
   ]
  },
  {
   "cell_type": "markdown",
   "metadata": {
    "colab_type": "text",
    "id": "je3kcRlG7JV5"
   },
   "source": [
    "# Predicción de nuestros modelos con SVR\n"
   ]
  },
  {
   "cell_type": "code",
   "execution_count": 28,
   "metadata": {
    "colab": {},
    "colab_type": "code",
    "id": "HS-M9s587Kj3"
   },
   "outputs": [
    {
     "name": "stdout",
     "output_type": "stream",
     "text": [
      "[130001.82883924]\n"
     ]
    }
   ],
   "source": [
    "print(regression.predict([[6.5]])) # vemos la predicción del modelo con los datos sin escalar (valor menor al de regresión polinómica)"
   ]
  },
  {
   "cell_type": "code",
   "execution_count": 35,
   "metadata": {},
   "outputs": [
    {
     "name": "stdout",
     "output_type": "stream",
     "text": [
      "[[170370.0204065]]\n"
     ]
    }
   ],
   "source": [
    "y_pred = regression.predict(sc_X.transform(np.array([[6.5]]))) # vemos la predicción del modelo con los datos escalados (escalamos el 6.5 para asignarlo, también lo podemos usar para una colección cambiando el 6.5 por número a predecir separados por comas)\n",
    "y_pred = sc_y.inverse_transform(y_pred.reshape(-1, 1)) # transformamos el escalado en los datos concretos del problema\n",
    "print(y_pred) # aplicamos fit para ajustar, y transform para aplicar (como ya ajusatamos antes ahora solo transformamos)"
   ]
  },
  {
   "cell_type": "markdown",
   "metadata": {
    "colab_type": "text",
    "id": "JnMLSqzW8NH7"
   },
   "source": [
    "# Visualización de los resultados del SVR"
   ]
  },
  {
   "cell_type": "code",
   "execution_count": 29,
   "metadata": {
    "colab": {},
    "colab_type": "code",
    "id": "1qZ3wRR08Oar"
   },
   "outputs": [
    {
     "data": {
      "image/png": "[encoded data removed]",
      "text/plain": [
       "<Figure size 640x480 with 1 Axes>"
      ]
     },
     "metadata": {},
     "output_type": "display_data"
    }
   ],
   "source": [
    "# Con datos sin escalar\n",
    "X_grid = np.arange(min(X.flatten()), max(X.flatten()), 0.1)\n",
    "X_grid = X_grid.reshape(len(X_grid), 1)\n",
    "plt.scatter(X, y, color = \"red\")\n",
    "plt.plot(X_grid, regression.predict(X_grid), color = \"blue\")\n",
    "plt.title(\"Modelo de Regresión (SVR)\")\n",
    "plt.xlabel(\"Posición del empleado\")\n",
    "plt.ylabel(\"Sueldo (en $)\")\n",
    "plt.show()\n",
    "# probar cambiar las etiquetas de X y Y con los valores adecuados para el problema"
   ]
  },
  {
   "cell_type": "code",
   "execution_count": 37,
   "metadata": {},
   "outputs": [
    {
     "data": {
      "image/png": "[encoded data removed]",
      "text/plain": [
       "<Figure size 640x480 with 1 Axes>"
      ]
     },
     "metadata": {},
     "output_type": "display_data"
    }
   ],
   "source": [
    "# Con datos escalados\n",
    "X_grid = np.arange(min(X.flatten()), max(X.flatten()), 0.1)\n",
    "X_grid = X_grid.reshape(len(X_grid), 1)\n",
    "plt.scatter(X, y, color = \"red\")\n",
    "plt.plot(X_grid, regression.predict(X_grid), color = \"blue\")\n",
    "plt.title(\"Modelo de Regresión (SVR)\")\n",
    "plt.xlabel(\"Posición del empleado\")\n",
    "plt.ylabel(\"Sueldo (en $)\")\n",
    "plt.show()\n",
    "# probar cambiar las etiquetas de X y Y con los valores adecuados para el problema\n",
    "# Vemos que se ajusta mejor a los datos sin escalar (solo que ahora los valores muestran un escalado)\n",
    "# Nuestro modelo considera Outlier a la observación del CEO, deshaciéndose de él para elaborar las predicciones (sesgo en distribución de X y Y, con una normalización puede mejorar)"
   ]
  }
 ],
 "metadata": {
  "colab": {
   "collapsed_sections": [],
   "name": "multiple_linear_regression_new_version.ipynb",
   "provenance": [],
   "toc_visible": true
  },
  "kernelspec": {
   "display_name": "Python 3 (ipykernel)",
   "language": "python",
   "name": "python3"
  },
  "language_info": {
   "codemirror_mode": {
    "name": "ipython",
    "version": 3
   },
   "file_extension": ".py",
   "mimetype": "text/x-python",
   "name": "python",
   "nbconvert_exporter": "python",
   "pygments_lexer": "ipython3",
   "version": "3.11.7"
  }
 },
 "nbformat": 4,
 "nbformat_minor": 4
}
