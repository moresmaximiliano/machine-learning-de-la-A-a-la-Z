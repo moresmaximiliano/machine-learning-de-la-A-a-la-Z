{
 "cells": [
  {
   "cell_type": "markdown",
   "metadata": {
    "colab_type": "text",
    "id": "KdUFcDsdzRyw"
   },
   "source": [
    "# Clonamos el repositorio para obtener los dataSet"
   ]
  },
  {
   "cell_type": "code",
   "execution_count": null,
   "metadata": {
    "colab": {
     "base_uri": "https://localhost:8080/",
     "height": 34
    },
    "colab_type": "code",
    "id": "mHReFf3_y9ms",
    "outputId": "c17545fd-c7dd-42c2-e3ad-4f55db21611f"
   },
   "outputs": [],
   "source": [
    "!git clone https://github.com/joanby/machinelearning-az.git"
   ]
  },
  {
   "cell_type": "markdown",
   "metadata": {
    "colab_type": "text",
    "id": "vNKZXgtKzU2x"
   },
   "source": [
    "# Damos acceso a nuestro Drive"
   ]
  },
  {
   "cell_type": "code",
   "execution_count": null,
   "metadata": {
    "colab": {
     "base_uri": "https://localhost:8080/",
     "height": 54
    },
    "colab_type": "code",
    "id": "5gu7KWnzzUQ0",
    "outputId": "abe602b4-3a59-470e-d508-037c6966002b"
   },
   "outputs": [],
   "source": [
    "from google.colab import drive\n",
    "drive.mount('/content/drive')"
   ]
  },
  {
   "cell_type": "markdown",
   "metadata": {
    "colab_type": "text",
    "id": "1gUxIkHWzfHV"
   },
   "source": [
    "# Test it"
   ]
  },
  {
   "cell_type": "code",
   "execution_count": null,
   "metadata": {
    "colab": {},
    "colab_type": "code",
    "id": "mIQt3jBMzYRE"
   },
   "outputs": [],
   "source": [
    "!ls '/content/drive/My Drive' "
   ]
  },
  {
   "cell_type": "markdown",
   "metadata": {
    "colab_type": "text",
    "id": "mHsK36uN0XB-"
   },
   "source": [
    "#Google colab tools"
   ]
  },
  {
   "cell_type": "code",
   "execution_count": null,
   "metadata": {
    "colab": {},
    "colab_type": "code",
    "id": "kTzwfUPWzrm4"
   },
   "outputs": [],
   "source": [
    "from google.colab import files # Para manejar los archivos y, por ejemplo, exportar a su navegador\n",
    "import glob # Para manejar los archivos y, por ejemplo, exportar a su navegador\n",
    "from google.colab import drive # Montar tu Google drive"
   ]
  },
  {
   "cell_type": "markdown",
   "metadata": {
    "colab_type": "text",
    "id": "uab9OAbV8hYN"
   },
   "source": [
    "#Instalar dependendias"
   ]
  },
  {
   "cell_type": "code",
   "execution_count": null,
   "metadata": {
    "colab": {
     "base_uri": "https://localhost:8080/",
     "height": 122
    },
    "colab_type": "code",
    "id": "qukjDgj98kE4",
    "outputId": "95b5f2b5-7149-436a-b1fb-ad567cc783bd"
   },
   "outputs": [],
   "source": [
    "!pip install sklearn"
   ]
  },
  {
   "cell_type": "markdown",
   "metadata": {
    "colab_type": "text",
    "id": "3yFpBwmNz70v"
   },
   "source": [
    "# Regresión Bosques Aleatorios\n"
   ]
  },
  {
   "cell_type": "markdown",
   "metadata": {
    "colab_type": "text",
    "id": "v8OxSXXSz-OP"
   },
   "source": [
    "# Cómo importar las librerías\n"
   ]
  },
  {
   "cell_type": "code",
   "execution_count": 1,
   "metadata": {
    "colab": {},
    "colab_type": "code",
    "id": "edZX51YLzs59"
   },
   "outputs": [],
   "source": [
    "import numpy as np\n",
    "import matplotlib.pyplot as plt\n",
    "import pandas as pd"
   ]
  },
  {
   "cell_type": "markdown",
   "metadata": {
    "colab_type": "text",
    "id": "8XfXlqtF0B58"
   },
   "source": [
    "# Importar el data set\n"
   ]
  },
  {
   "cell_type": "code",
   "execution_count": 2,
   "metadata": {
    "colab": {},
    "colab_type": "code",
    "id": "-nnozsHsz_-N"
   },
   "outputs": [],
   "source": [
    "dataset = pd.read_csv('Position_Salaries.csv')\n",
    "X = dataset.iloc[:, 1:2].values\n",
    "y = dataset.iloc[:, 2].values"
   ]
  },
  {
   "cell_type": "markdown",
   "metadata": {
    "colab_type": "text",
    "id": "SsVEdPzf4XmV"
   },
   "source": [
    "# Dividir el data set en conjunto de entrenamiento y conjunto de testing\n"
   ]
  },
  {
   "cell_type": "code",
   "execution_count": 1,
   "metadata": {
    "colab": {},
    "colab_type": "code",
    "id": "v9CtwK834bjy"
   },
   "outputs": [
    {
     "data": {
      "text/plain": [
       "'\\nfrom sklearn.model_selection import train_test_split\\nX_train, X_test, y_train, y_test = train_test_split(X, y, test_size = 0.2, random_state = 0)\\n'"
      ]
     },
     "execution_count": 1,
     "metadata": {},
     "output_type": "execute_result"
    }
   ],
   "source": [
    "# Pocos datos\n",
    "\"\"\"\n",
    "from sklearn.model_selection import train_test_split\n",
    "X_train, X_test, y_train, y_test = train_test_split(X, y, test_size = 0.2, random_state = 0)\n",
    "\"\"\""
   ]
  },
  {
   "cell_type": "markdown",
   "metadata": {
    "colab_type": "text",
    "id": "5AH_uCEz68rb"
   },
   "source": [
    "# Escalado de variables"
   ]
  },
  {
   "cell_type": "code",
   "execution_count": null,
   "metadata": {
    "colab": {
     "base_uri": "https://localhost:8080/",
     "height": 54
    },
    "colab_type": "code",
    "id": "oeuAy8LI69vi",
    "outputId": "10346439-d6ac-4abd-b5bb-033e9a284716"
   },
   "outputs": [],
   "source": [
    "# Por el momento no escalamos, veremos según resultados\n",
    "\"\"\"\n",
    "from sklearn.preprocessing import StandardScaler\n",
    "sc_X = StandardScaler()\n",
    "X_train = sc_X.fit_transform(X_train)\n",
    "X_test = sc_X.transform(X_test)\n",
    "\"\"\""
   ]
  },
  {
   "cell_type": "markdown",
   "metadata": {
    "colab_type": "text",
    "id": "cgweTaJ67BOB"
   },
   "source": [
    "# Ajustar el Random Forest con el dataset"
   ]
  },
  {
   "cell_type": "code",
   "execution_count": 3,
   "metadata": {},
   "outputs": [],
   "source": [
    "from sklearn.ensemble import RandomForestRegressor # en ensemble están las técnicas de aprendizaje conjunto"
   ]
  },
  {
   "cell_type": "code",
   "execution_count": 26,
   "metadata": {
    "colab": {},
    "colab_type": "code",
    "id": "2AwTWELX7DZQ"
   },
   "outputs": [
    {
     "name": "stdout",
     "output_type": "stream",
     "text": [
      "{'bootstrap': True, 'ccp_alpha': 0.0, 'criterion': 'squared_error', 'max_depth': None, 'max_features': 1.0, 'max_leaf_nodes': None, 'max_samples': None, 'min_impurity_decrease': 0.0, 'min_samples_leaf': 1, 'min_samples_split': 2, 'min_weight_fraction_leaf': 0.0, 'monotonic_cst': None, 'n_estimators': 300, 'n_jobs': None, 'oob_score': False, 'random_state': 0, 'verbose': 0, 'warm_start': False}\n",
      "0.952881406729914\n"
     ]
    }
   ],
   "source": [
    "# Vamos a tomar la predicción de todos los árboles de decisión para ver si obtenemos un mejor resultado\n",
    "regression = RandomForestRegressor(n_estimators = 300, random_state = 0) # ver parámetros (n_estimators: n de árboles de decisión que conformarán el bosque, criterion: criterio para dividir rama en subramas u hojas (dividimos el set en 2 ramas de modo que el mse de cada uno sea menor que mantenerlos juntos), max_features: num de caracteristicas a tener en cuenta para generar las divisiones de los árboles(no es lo mismo dividir en forma binaria que ir tomando en cuenta dif características para cada modelo) sin poner nada toma todas las características,ver demás)\n",
    "regression.fit(X, y)\n",
    "print(regression.get_params()) # vemos los parámetros \n",
    "print(regression.score(X,y)) # vemos el grado de ajuste a los datos de entrenamiento (acordarse que con árboles es medio engañoso)"
   ]
  },
  {
   "cell_type": "markdown",
   "metadata": {
    "colab_type": "text",
    "id": "je3kcRlG7JV5"
   },
   "source": [
    "# Predicción de nuestros modelos con Random Forest\n"
   ]
  },
  {
   "cell_type": "code",
   "execution_count": 27,
   "metadata": {
    "colab": {},
    "colab_type": "code",
    "id": "HS-M9s587Kj3"
   },
   "outputs": [
    {
     "data": {
      "text/plain": [
       "array([160333.33333333])"
      ]
     },
     "execution_count": 27,
     "metadata": {},
     "output_type": "execute_result"
    }
   ],
   "source": [
    "y_pred = regression.predict([[6.5]]) # si demora es porque tiene que consultar las medias de todos los árboles de desición que conforman el bosque\n",
    "y_pred # obtenemos una predicción mejor que en DTRee o SVR"
   ]
  },
  {
   "cell_type": "markdown",
   "metadata": {
    "colab_type": "text",
    "id": "JnMLSqzW8NH7"
   },
   "source": [
    "# Visualización de los resultados del Random Forest"
   ]
  },
  {
   "cell_type": "code",
   "execution_count": 28,
   "metadata": {
    "colab": {},
    "colab_type": "code",
    "id": "1qZ3wRR08Oar"
   },
   "outputs": [
    {
     "data": {
      "image/png": "[encoded data removed]",
      "text/plain": [
       "<Figure size 640x480 with 1 Axes>"
      ]
     },
     "metadata": {},
     "output_type": "display_data"
    }
   ],
   "source": [
    "# Vemos las predicciones del modelo\n",
    "X_grid = np.arange(min(X.flatten()), max(X.flatten()), 0.01) # acá puede demorar la predicción para cada punto decimal\n",
    "X_grid = X_grid.reshape(len(X_grid), 1)\n",
    "plt.scatter(X, y, color = \"red\")\n",
    "plt.plot(X_grid, regression.predict(X_grid), color = \"blue\") # como es x_grid, si estamos tomando la predicción del modelo para cada punto\n",
    "plt.title(\"Modelo de Regresión con Random Forest\")\n",
    "plt.xlabel(\"Posición del empleado\")\n",
    "plt.ylabel(\"Sueldo (en $)\")\n",
    "plt.show()\n",
    "# No obtenemos una gráfica continua (es discreto) del RF, pero el resultado se ajusta bastante a los datos. Se promedian todas las escaleras de árboles de desición, por lo que obtenemos una escalera con más peldaños en este caso (más cercano a ser continua, pero no necesariamente debe ser así)\n",
    "# Si aumentamos de 10 a 100 árboles, el número de peldaños de la escalera no aumenta, por lo que no se acerca más a una función continua (la convergencia del modelo no viene dada neceesariamente por la cantidad de árboles que incluyamos)\n",
    "# Crear árboles en función de la cantidad de datos que tengamos y las diferentes perspectivas que podemos obtener de los mismos (si tenemos pocos datos no necesitamos tantos árboles)\n",
    "# Sin embargo, a pesar de que en nuestro caso pasar de 10 a 100 y luego a 300 no altera mucho el gráfico de predicciones del modelo, para la predicción puntual en concreto de 6.5 si vemos mejoras\n",
    "# Con esto se demuestra que los algoritmos de Ensemble mejoran los algoritmos básicos"
   ]
  }
 ],
 "metadata": {
  "colab": {
   "collapsed_sections": [],
   "name": "multiple_linear_regression_new_version.ipynb",
   "provenance": [],
   "toc_visible": true
  },
  "kernelspec": {
   "display_name": "Python 3 (ipykernel)",
   "language": "python",
   "name": "python3"
  },
  "language_info": {
   "codemirror_mode": {
    "name": "ipython",
    "version": 3
   },
   "file_extension": ".py",
   "mimetype": "text/x-python",
   "name": "python",
   "nbconvert_exporter": "python",
   "pygments_lexer": "ipython3",
   "version": "3.11.7"
  }
 },
 "nbformat": 4,
 "nbformat_minor": 4
}
