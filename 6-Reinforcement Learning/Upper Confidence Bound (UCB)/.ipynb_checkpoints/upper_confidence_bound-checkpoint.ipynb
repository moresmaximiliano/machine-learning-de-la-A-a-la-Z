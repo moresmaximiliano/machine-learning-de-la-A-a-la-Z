{
 "cells": [
  {
   "cell_type": "markdown",
   "metadata": {
    "colab_type": "text",
    "id": "KdUFcDsdzRyw"
   },
   "source": [
    "# Clonamos el repositorio para obtener los dataSet"
   ]
  },
  {
   "cell_type": "code",
   "execution_count": null,
   "metadata": {
    "colab": {
     "base_uri": "https://localhost:8080/",
     "height": 34
    },
    "colab_type": "code",
    "id": "mHReFf3_y9ms",
    "outputId": "c17545fd-c7dd-42c2-e3ad-4f55db21611f"
   },
   "outputs": [],
   "source": [
    "!git clone https://github.com/joanby/machinelearning-az.git"
   ]
  },
  {
   "cell_type": "markdown",
   "metadata": {
    "colab_type": "text",
    "id": "vNKZXgtKzU2x"
   },
   "source": [
    "# Damos acceso a nuestro Drive"
   ]
  },
  {
   "cell_type": "code",
   "execution_count": null,
   "metadata": {
    "colab": {
     "base_uri": "https://localhost:8080/",
     "height": 54
    },
    "colab_type": "code",
    "id": "5gu7KWnzzUQ0",
    "outputId": "abe602b4-3a59-470e-d508-037c6966002b"
   },
   "outputs": [],
   "source": [
    "from google.colab import drive\n",
    "drive.mount('/content/drive')"
   ]
  },
  {
   "cell_type": "markdown",
   "metadata": {
    "colab_type": "text",
    "id": "1gUxIkHWzfHV"
   },
   "source": [
    "# Test it"
   ]
  },
  {
   "cell_type": "code",
   "execution_count": null,
   "metadata": {
    "colab": {},
    "colab_type": "code",
    "id": "mIQt3jBMzYRE"
   },
   "outputs": [],
   "source": [
    "!ls '/content/drive/My Drive' "
   ]
  },
  {
   "cell_type": "markdown",
   "metadata": {
    "colab_type": "text",
    "id": "mHsK36uN0XB-"
   },
   "source": [
    "# Google colab tools"
   ]
  },
  {
   "cell_type": "code",
   "execution_count": null,
   "metadata": {
    "colab": {},
    "colab_type": "code",
    "id": "kTzwfUPWzrm4"
   },
   "outputs": [],
   "source": [
    "from google.colab import files # Para manejar los archivos y, por ejemplo, exportar a su navegador\n",
    "import glob # Para manejar los archivos y, por ejemplo, exportar a su navegador\n",
    "from google.colab import drive # Montar tu Google drive"
   ]
  },
  {
   "cell_type": "markdown",
   "metadata": {
    "colab_type": "text",
    "id": "uab9OAbV8hYN"
   },
   "source": [
    "# Instalar dependendias"
   ]
  },
  {
   "cell_type": "code",
   "execution_count": null,
   "metadata": {
    "colab": {
     "base_uri": "https://localhost:8080/",
     "height": 122
    },
    "colab_type": "code",
    "id": "qukjDgj98kE4",
    "outputId": "95b5f2b5-7149-436a-b1fb-ad567cc783bd"
   },
   "outputs": [],
   "source": [
    "!pip install sklearn"
   ]
  },
  {
   "cell_type": "markdown",
   "metadata": {
    "colab_type": "text",
    "id": "3yFpBwmNz70v"
   },
   "source": [
    "# Upper Confidence Bound (UCB)"
   ]
  },
  {
   "cell_type": "markdown",
   "metadata": {
    "colab_type": "text",
    "id": "v8OxSXXSz-OP"
   },
   "source": [
    "# Cómo importar las librerías\n"
   ]
  },
  {
   "cell_type": "code",
   "execution_count": 1,
   "metadata": {
    "colab": {},
    "colab_type": "code",
    "id": "edZX51YLzs59"
   },
   "outputs": [],
   "source": [
    "import numpy as np\n",
    "import matplotlib.pyplot as plt\n",
    "import pandas as pd"
   ]
  },
  {
   "cell_type": "markdown",
   "metadata": {
    "colab_type": "text",
    "id": "8XfXlqtF0B58"
   },
   "source": [
    "# Importar el data set\n"
   ]
  },
  {
   "cell_type": "code",
   "execution_count": 2,
   "metadata": {
    "colab": {},
    "colab_type": "code",
    "id": "-nnozsHsz_-N"
   },
   "outputs": [],
   "source": [
    "dataset = pd.read_csv('Ads_CTR_Optimisation.csv')\n",
    "# dataset relacionado con el mundo del marketing, en donde cada usuario de la muestra (10000) se le ponen diferentes anuncios sobre un mismo producto y se le agrega un 1 si el mismo hizo click o un 0 si no\n",
    "# Queremos obtener el anuncio con mayor tasa de conversión (probables compras del producto)\n",
    "# No es necesario separar en X ni Y, ni partir los datos en train/test"
   ]
  },
  {
   "cell_type": "markdown",
   "metadata": {
    "colab_type": "text",
    "id": "SsVEdPzf4XmV"
   },
   "source": [
    "# Algoritmo de UCB"
   ]
  },
  {
   "cell_type": "code",
   "execution_count": 5,
   "metadata": {
    "colab": {},
    "colab_type": "code",
    "id": "v9CtwK834bjy"
   },
   "outputs": [
    {
     "data": {
      "text/plain": [
       "2178"
      ]
     },
     "execution_count": 5,
     "metadata": {},
     "output_type": "execute_result"
    }
   ],
   "source": [
    "# Utilizamos estos 10000 datos recopilados para estimar la media poblacional de cada anuncio a traves del intérvalo de confianza de la media muestral, quedándonos con el anuncio que posea un LS mayor\n",
    "# El algoritmo observará los resultados obtenidos durante las primeras 'n' rondas, y en base a esto determinará que anuncios mostrará a continuación.\n",
    "# En realidad el dataset es teórico (a cada ususario se le muestran todos los anuncios), porque a nosotros en la realidad se nos mostrarían los datos de la siguiente manera: el ususario 200 vió el anuncio 5 y no hizo click, el 454 vió el 9 y si hizo click, etc\n",
    "\n",
    "import math\n",
    "N = 10000 # número de rondas/usuarios en los que se corren los anuncios(filas)\n",
    "d = 10 # número de anuncios a poner a prueba (columnas)\n",
    "number_of_selections = [0] * d # vector de 0 lo multiplico por la dimensión que quiero (en la primera ronda todavía no se selecciono ningún anuncio, por lo que lo inicializo en 0)\n",
    "sums_of_rewards = [0] * d # también las recompensas las inicializo en 0\n",
    "ads_selected = [] \n",
    "total_reward = 0 \n",
    "for n in range(0, N): # ojo que las rondas comienzan en 0\n",
    "    max_upper_bound = 0 # inicializo el 0 el límite superior máximo para cada ronda\n",
    "    ad = 0 # inicializo en 0 el anuncio que consiguió el límite superior máximo hasta la n<N ronda (el mejor anuncio hasta la n<N ronda)\n",
    "    for i in range(0, d): # calculo las métricas del Paso 2 para cada anuncio\n",
    "        if(number_of_selections[i]>0): # si cada anuncio se ha seleccionado por lo menos una vez (cada anuncio no que se haya seleccionado por lo menos una vez como poseedor del mayor LS será descartado para el cálculo)\n",
    "            average_reward = sums_of_rewards[i] / number_of_selections[i] # recompensa media (número de recompensas del anuncio / número de selecciones en particular)\n",
    "            delta_i = math.sqrt(3/2*math.log(n+1)/number_of_selections[i]) # delta sub i. Como n empieza en 0, debo sumarle 1 para no dividir por 0\n",
    "            upper_bound = average_reward + delta_i # solo calculo el límite superior, no el intérvalo de confianza entero (recompensa media + delta sub i)\n",
    "        else:\n",
    "            upper_bound = 1e400 # para los primeros datos indico un LS muy alto, para que no influya en el resultado final \n",
    "            # En la primer ronda (n=1), el anuncio seleccionado sería el 0, con valor 1e400 (todos tendrían el mismo valor, sin pasar por el cálculo)\n",
    "            # En la segunda ronda (n=2), el único anuncio que cumpla con [i]>0 será el 0, ya seleccionado en la ronda previa, por lo que a ese se le calculará su límite superior, sin embargo, el mismo será rebasado por 1e400 del anuncio 1, siendo este el nuevo seleccionado\n",
    "            # Y así en las 10 primeras rondas, lo que habremos hecho es seleccionar al menos una vez cada anuncio como el poseedor del límite superior\n",
    "        if upper_bound > max_upper_bound:\n",
    "            max_upper_bound = upper_bound # si el límite superior supera al establecido como máximo anteriormente, lo reemplaza\n",
    "            ad = i # establezco el anuncio que consiguió el limite superior máximo (el mejor anuncio hasta la n<N ronda)\n",
    "    ads_selected.append(ad) # añado el mejor anuncio seleccionado para las rondas actuales\n",
    "    number_of_selections[ad] = number_of_selections[ad] + 1 # contamos las veces que el anuncio ha sido seleccionado como el óptimo\n",
    "    reward = dataset.values[n, ad] # averiguo que recompensa le ha dado el sistema al usuario para ese mejor anuncio de rondas actuales (0 o 1)\n",
    "    sums_of_rewards[ad] = sums_of_rewards[ad] + reward # actualizo la suma de recompensas para el mejor anuncio de rondas actuales\n",
    "    total_reward = total_reward + reward # contabilizo la cantidad de recompensas totales a lo largo de todas las rondas con todos los anuncios (cantidad de ventas para comparar con respecto a la muestra de anuncios aleatorios)\n",
    "\n",
    "total_reward # queremos ver si superamos efectivamente las 1200 ventas que en promedio obteniamos seleccionando aleatoriamente anuncios para cada usuario, ya que UCB comienza a mostrarselos a clientes según la recompensas que vaya obteniendo con los clientes previos y cuando su tendencia (LS del intérvalo) a la media poblacional de ventas de un anuncio supere a las demás.\n",
    "\n",
    "# En ads_selected podemos ver el anuncio que se le mostró a cada usuario (vemos también las forzadas 10 primeras rondas del 0 al 9). Luego se va acomodando la muestra a medida que el algoritmo detecta que un anuncio obtiene mejores resultados (clicks) que los demás, priorizando su recomendación para que la visualicen los próximos clientes."
   ]
  },
  {
   "cell_type": "markdown",
   "metadata": {
    "colab_type": "text",
    "id": "5AH_uCEz68rb"
   },
   "source": [
    "# Histograma de resultados"
   ]
  },
  {
   "cell_type": "code",
   "execution_count": 6,
   "metadata": {
    "colab": {
     "base_uri": "https://localhost:8080/",
     "height": 54
    },
    "colab_type": "code",
    "id": "oeuAy8LI69vi",
    "outputId": "10346439-d6ac-4abd-b5bb-033e9a284716"
   },
   "outputs": [
    {
     "data": {
      "image/png": "[encoded data removed]",
      "text/plain": [
       "<Figure size 640x480 with 1 Axes>"
      ]
     },
     "metadata": {},
     "output_type": "display_data"
    }
   ],
   "source": [
    "# Vemos que supera ampliamente las 1200 ventas de anuncios mostrados aleatoriamente, priorizando mostrar a clientes el anuncio número 5 (anuncio que debemos mostrar),\n",
    "# el cual fue detectado por el algoritmo como el poseedor de la mayor media teórica o mayor conseguidor de ventas para una población (LS más grande, a partir de n rondas previas)\n",
    "# La convergencia es tan buena que hasta casi que duplica la selección de anuncios aleatorios\n",
    "\n",
    "# Histograma de frecuencias para ver en que cuantía se le mostró a los usuarios cada anuncio. Todos han sido visualizados en mayor o menor medida, siendo el 5to el de mayor tasa de conversión (por el que debemos optar)\n",
    "plt.hist(ads_selected)\n",
    "plt.title(\"Histograma de anuncios\")\n",
    "plt.xlabel(\"ID del Anuncio\")\n",
    "plt.ylabel(\"Frecuencia de visualización del anuncio\")\n",
    "plt.show()"
   ]
  }
 ],
 "metadata": {
  "colab": {
   "collapsed_sections": [],
   "name": "multiple_linear_regression_new_version.ipynb",
   "provenance": [],
   "toc_visible": true
  },
  "kernelspec": {
   "display_name": "Python 3 (ipykernel)",
   "language": "python",
   "name": "python3"
  },
  "language_info": {
   "codemirror_mode": {
    "name": "ipython",
    "version": 3
   },
   "file_extension": ".py",
   "mimetype": "text/x-python",
   "name": "python",
   "nbconvert_exporter": "python",
   "pygments_lexer": "ipython3",
   "version": "3.11.7"
  }
 },
 "nbformat": 4,
 "nbformat_minor": 4
}
