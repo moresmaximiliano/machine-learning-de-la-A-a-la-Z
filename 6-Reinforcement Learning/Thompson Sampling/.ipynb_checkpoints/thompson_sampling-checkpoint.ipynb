{
 "cells": [
  {
   "cell_type": "markdown",
   "metadata": {
    "colab_type": "text",
    "id": "KdUFcDsdzRyw"
   },
   "source": [
    "# Clonamos el repositorio para obtener los dataSet"
   ]
  },
  {
   "cell_type": "code",
   "execution_count": null,
   "metadata": {
    "colab": {
     "base_uri": "https://localhost:8080/",
     "height": 34
    },
    "colab_type": "code",
    "id": "mHReFf3_y9ms",
    "outputId": "c17545fd-c7dd-42c2-e3ad-4f55db21611f"
   },
   "outputs": [],
   "source": [
    "!git clone https://github.com/joanby/machinelearning-az.git"
   ]
  },
  {
   "cell_type": "markdown",
   "metadata": {
    "colab_type": "text",
    "id": "vNKZXgtKzU2x"
   },
   "source": [
    "# Damos acceso a nuestro Drive"
   ]
  },
  {
   "cell_type": "code",
   "execution_count": null,
   "metadata": {
    "colab": {
     "base_uri": "https://localhost:8080/",
     "height": 54
    },
    "colab_type": "code",
    "id": "5gu7KWnzzUQ0",
    "outputId": "abe602b4-3a59-470e-d508-037c6966002b"
   },
   "outputs": [],
   "source": [
    "from google.colab import drive\n",
    "drive.mount('/content/drive')"
   ]
  },
  {
   "cell_type": "markdown",
   "metadata": {
    "colab_type": "text",
    "id": "1gUxIkHWzfHV"
   },
   "source": [
    "# Test it"
   ]
  },
  {
   "cell_type": "code",
   "execution_count": null,
   "metadata": {
    "colab": {},
    "colab_type": "code",
    "id": "mIQt3jBMzYRE"
   },
   "outputs": [],
   "source": [
    "!ls '/content/drive/My Drive' "
   ]
  },
  {
   "cell_type": "markdown",
   "metadata": {
    "colab_type": "text",
    "id": "mHsK36uN0XB-"
   },
   "source": [
    "# Google colab tools"
   ]
  },
  {
   "cell_type": "code",
   "execution_count": null,
   "metadata": {
    "colab": {},
    "colab_type": "code",
    "id": "kTzwfUPWzrm4"
   },
   "outputs": [],
   "source": [
    "from google.colab import files # Para manejar los archivos y, por ejemplo, exportar a su navegador\n",
    "import glob # Para manejar los archivos y, por ejemplo, exportar a su navegador\n",
    "from google.colab import drive # Montar tu Google drive"
   ]
  },
  {
   "cell_type": "markdown",
   "metadata": {
    "colab_type": "text",
    "id": "uab9OAbV8hYN"
   },
   "source": [
    "# Instalar dependendias"
   ]
  },
  {
   "cell_type": "code",
   "execution_count": null,
   "metadata": {
    "colab": {
     "base_uri": "https://localhost:8080/",
     "height": 122
    },
    "colab_type": "code",
    "id": "qukjDgj98kE4",
    "outputId": "95b5f2b5-7149-436a-b1fb-ad567cc783bd"
   },
   "outputs": [],
   "source": [
    "!pip install sklearn"
   ]
  },
  {
   "cell_type": "markdown",
   "metadata": {
    "colab_type": "text",
    "id": "3yFpBwmNz70v"
   },
   "source": [
    "# Muestreo Thompson"
   ]
  },
  {
   "cell_type": "markdown",
   "metadata": {
    "colab_type": "text",
    "id": "v8OxSXXSz-OP"
   },
   "source": [
    "# Cómo importar las librerías\n"
   ]
  },
  {
   "cell_type": "code",
   "execution_count": 1,
   "metadata": {
    "colab": {},
    "colab_type": "code",
    "id": "edZX51YLzs59"
   },
   "outputs": [],
   "source": [
    "import numpy as np\n",
    "import matplotlib.pyplot as plt\n",
    "import pandas as pd"
   ]
  },
  {
   "cell_type": "markdown",
   "metadata": {
    "colab_type": "text",
    "id": "8XfXlqtF0B58"
   },
   "source": [
    "# Importar el data set\n"
   ]
  },
  {
   "cell_type": "code",
   "execution_count": 2,
   "metadata": {
    "colab": {},
    "colab_type": "code",
    "id": "-nnozsHsz_-N"
   },
   "outputs": [],
   "source": [
    "dataset = pd.read_csv('Ads_CTR_Optimisation.csv')"
   ]
  },
  {
   "cell_type": "markdown",
   "metadata": {
    "colab_type": "text",
    "id": "SsVEdPzf4XmV"
   },
   "source": [
    "# Algoritmo de Muestreo Thompson"
   ]
  },
  {
   "cell_type": "code",
   "execution_count": 3,
   "metadata": {
    "colab": {},
    "colab_type": "code",
    "id": "v9CtwK834bjy"
   },
   "outputs": [
    {
     "data": {
      "text/plain": [
       "2611"
      ]
     },
     "execution_count": 3,
     "metadata": {},
     "output_type": "execute_result"
    }
   ],
   "source": [
    "import random\n",
    "N = 10000 # número de rondas/usuarios en los que se corren los anuncios(filas)\n",
    "d = 10 # número de anuncios a poner a prueba (columnas)\n",
    "number_of_rewards_1 = [0] * d # Paso 1 (no es lo mismo que UCB). Vectores inicializados en 0 de 10 elementos.\n",
    "number_of_rewards_0 = [0] * d # Paso 1\n",
    "ads_selected = []\n",
    "total_reward = 0\n",
    "for n in range(0, N): # rondas\n",
    "    max_random = 0 # ahora tenemos que seleccionar el máximo valor de retorno (de los seleccionados aleatoriamente) de las distribuciones muestrales hasta la ronda n. Esto nos permitirá que el algoritmo redefina y perfeccione su concepción de la distribución elegida\n",
    "    ad = 0 # inicializo en 0 el anuncio que consiguió el valor aleatorio máximo de su distribución Beta hasta la n<N ronda (el mejor anuncio hasta la n<N ronda)\n",
    "    for i in range(0, d): # cada anuncio\n",
    "        random_beta = random.betavariate(number_of_rewards_1[i]+1, number_of_rewards_0[i]+1) # Paso 2. Se eligen valores aleatorios sacados de la dist Beta (muestral hasta la ronda n). Le paso para que me la realice con la información del Paso 1.\n",
    "        if random_beta > max_random: # me quedo con el máximo valor aleatorio obtenido de las distribuciones Beta de los anuncios\n",
    "            max_random = random_beta\n",
    "            ad = i # establezco el anuncio que consiguió el valor aleatorio máximo de su distribución Beta (el mejor anuncio hasta la n<N ronda)\n",
    "    ads_selected.append(ad) # añado el mejor anuncio seleccionado para las rondas actuales\n",
    "    reward = dataset.values[n, ad] # averiguo que recompensa le ha dado el sistema al usuario para ese mejor anuncio seleccionado sobre las rondas actuales (0 o 1)\n",
    "    if reward == 1:\n",
    "        number_of_rewards_1[ad] = number_of_rewards_1[ad] + 1 # agrego cuando el usuario ha hecho click en el indice apropiado de recompensas 1 (le asigno a ese anuncio su resultado positivo)\n",
    "    else:\n",
    "        number_of_rewards_0[ad] = number_of_rewards_0[ad] + 1 # agrego cuando el usuario no ha hecho click en el indice apropiado de recompensas 0 (le asigno a ese anuncio su resultado negativo)\n",
    "    total_reward = total_reward + reward\n",
    "\n",
    "total_reward # número de ventas (clicks conseguidos). Mejor incluso que el UCB \n",
    "\n",
    "# En ads_selected podemos ver que anuncio se le mostró a cada usuario\n",
    "# Acordarse que teníamos que superar los 1200 clicks en promedio obtenidos por la muestra de anuncios aleatorios a ususarios y los 2200 del UCB. Thompson nos da un resultado aproximado de 2600 clicks/ventas.\n",
    "# Como el algoritmo es aleatorio (en la selección de valores de distribuciones), en cada ejecución nos dará un resultado diferente (intentar que no sea mucha la desviación estándar)"
   ]
  },
  {
   "cell_type": "markdown",
   "metadata": {
    "colab_type": "text",
    "id": "5AH_uCEz68rb"
   },
   "source": [
    "# Histograma de resultados"
   ]
  },
  {
   "cell_type": "code",
   "execution_count": 4,
   "metadata": {
    "colab": {
     "base_uri": "https://localhost:8080/",
     "height": 54
    },
    "colab_type": "code",
    "id": "oeuAy8LI69vi",
    "outputId": "10346439-d6ac-4abd-b5bb-033e9a284716"
   },
   "outputs": [
    {
     "data": {
      "image/png": "[encoded data removed]",
      "text/plain": [
       "<Figure size 640x480 with 1 Axes>"
      ]
     },
     "metadata": {},
     "output_type": "display_data"
    }
   ],
   "source": [
    "plt.hist(ads_selected)\n",
    "plt.title(\"Histograma de anuncios\")\n",
    "plt.xlabel(\"ID del Anuncio\")\n",
    "plt.ylabel(\"Frecuencia de visualización del anuncio\")\n",
    "plt.show()\n",
    "\n",
    "# Identificó con menos datos (o rondas) que el anuncio 5 era el mejor (el que mejor retorno proporcionaba su aproximación a la distribución teórica)\n",
    "# Osea que el algoritmo converge mucho más rápido, descubriendo el anuncio que posee mayor tasa de clicks"
   ]
  }
 ],
 "metadata": {
  "colab": {
   "collapsed_sections": [],
   "name": "multiple_linear_regression_new_version.ipynb",
   "provenance": [],
   "toc_visible": true
  },
  "kernelspec": {
   "display_name": "Python 3 (ipykernel)",
   "language": "python",
   "name": "python3"
  },
  "language_info": {
   "codemirror_mode": {
    "name": "ipython",
    "version": 3
   },
   "file_extension": ".py",
   "mimetype": "text/x-python",
   "name": "python",
   "nbconvert_exporter": "python",
   "pygments_lexer": "ipython3",
   "version": "3.11.7"
  }
 },
 "nbformat": 4,
 "nbformat_minor": 4
}
