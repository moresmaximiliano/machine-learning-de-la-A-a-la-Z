{
 "cells": [
  {
   "cell_type": "markdown",
   "metadata": {
    "colab_type": "text",
    "id": "KdUFcDsdzRyw"
   },
   "source": [
    "# Clonamos el repositorio para obtener los dataSet"
   ]
  },
  {
   "cell_type": "code",
   "execution_count": null,
   "metadata": {
    "colab": {
     "base_uri": "https://localhost:8080/",
     "height": 34
    },
    "colab_type": "code",
    "id": "mHReFf3_y9ms",
    "outputId": "c17545fd-c7dd-42c2-e3ad-4f55db21611f"
   },
   "outputs": [],
   "source": [
    "!git clone https://github.com/joanby/machinelearning-az.git"
   ]
  },
  {
   "cell_type": "markdown",
   "metadata": {
    "colab_type": "text",
    "id": "vNKZXgtKzU2x"
   },
   "source": [
    "# Damos acceso a nuestro Drive"
   ]
  },
  {
   "cell_type": "code",
   "execution_count": null,
   "metadata": {
    "colab": {
     "base_uri": "https://localhost:8080/",
     "height": 54
    },
    "colab_type": "code",
    "id": "5gu7KWnzzUQ0",
    "outputId": "abe602b4-3a59-470e-d508-037c6966002b"
   },
   "outputs": [],
   "source": [
    "from google.colab import drive\n",
    "drive.mount('/content/drive')"
   ]
  },
  {
   "cell_type": "markdown",
   "metadata": {
    "colab_type": "text",
    "id": "1gUxIkHWzfHV"
   },
   "source": [
    "# Test it"
   ]
  },
  {
   "cell_type": "code",
   "execution_count": null,
   "metadata": {
    "colab": {},
    "colab_type": "code",
    "id": "mIQt3jBMzYRE"
   },
   "outputs": [],
   "source": [
    "!ls '/content/drive/My Drive' "
   ]
  },
  {
   "cell_type": "markdown",
   "metadata": {
    "colab_type": "text",
    "id": "mHsK36uN0XB-"
   },
   "source": [
    "# Google colab tools"
   ]
  },
  {
   "cell_type": "code",
   "execution_count": null,
   "metadata": {
    "colab": {},
    "colab_type": "code",
    "id": "kTzwfUPWzrm4"
   },
   "outputs": [],
   "source": [
    "from google.colab import files # Para manejar los archivos y, por ejemplo, exportar a su navegador\n",
    "import glob # Para manejar los archivos y, por ejemplo, exportar a su navegador\n",
    "from google.colab import drive # Montar tu Google drive"
   ]
  },
  {
   "cell_type": "markdown",
   "metadata": {
    "colab_type": "text",
    "id": "uab9OAbV8hYN"
   },
   "source": [
    "# Instalar dependendias"
   ]
  },
  {
   "cell_type": "code",
   "execution_count": null,
   "metadata": {
    "colab": {
     "base_uri": "https://localhost:8080/",
     "height": 122
    },
    "colab_type": "code",
    "id": "qukjDgj98kE4",
    "outputId": "95b5f2b5-7149-436a-b1fb-ad567cc783bd"
   },
   "outputs": [],
   "source": [
    "!pip install sklearn"
   ]
  },
  {
   "cell_type": "markdown",
   "metadata": {
    "colab_type": "text",
    "id": "3yFpBwmNz70v"
   },
   "source": [
    "# Random Forest Classification"
   ]
  },
  {
   "cell_type": "markdown",
   "metadata": {
    "colab_type": "text",
    "id": "v8OxSXXSz-OP"
   },
   "source": [
    "# Cómo importar las librerías\n"
   ]
  },
  {
   "cell_type": "code",
   "execution_count": 1,
   "metadata": {
    "colab": {},
    "colab_type": "code",
    "id": "edZX51YLzs59"
   },
   "outputs": [],
   "source": [
    "import numpy as np\n",
    "import matplotlib.pyplot as plt\n",
    "import pandas as pd"
   ]
  },
  {
   "cell_type": "markdown",
   "metadata": {
    "colab_type": "text",
    "id": "8XfXlqtF0B58"
   },
   "source": [
    "# Importar el data set\n"
   ]
  },
  {
   "cell_type": "code",
   "execution_count": 2,
   "metadata": {
    "colab": {},
    "colab_type": "code",
    "id": "-nnozsHsz_-N"
   },
   "outputs": [],
   "source": [
    "dataset = pd.read_csv('Social_Network_Ads.csv')\n",
    "X = dataset.iloc[:, [2,3]].values\n",
    "y = dataset.iloc[:, 4].values"
   ]
  },
  {
   "cell_type": "markdown",
   "metadata": {
    "colab_type": "text",
    "id": "SsVEdPzf4XmV"
   },
   "source": [
    "# Dividir el data set en conjunto de entrenamiento y conjunto de testing\n"
   ]
  },
  {
   "cell_type": "code",
   "execution_count": 3,
   "metadata": {
    "colab": {},
    "colab_type": "code",
    "id": "v9CtwK834bjy"
   },
   "outputs": [],
   "source": [
    "from sklearn.model_selection import train_test_split\n",
    "X_train, X_test, y_train, y_test = train_test_split(X, y, test_size = 0.25, random_state = 0)"
   ]
  },
  {
   "cell_type": "markdown",
   "metadata": {
    "colab_type": "text",
    "id": "5AH_uCEz68rb"
   },
   "source": [
    "# Escalado de variables"
   ]
  },
  {
   "cell_type": "code",
   "execution_count": 4,
   "metadata": {
    "colab": {
     "base_uri": "https://localhost:8080/",
     "height": 54
    },
    "colab_type": "code",
    "id": "oeuAy8LI69vi",
    "outputId": "10346439-d6ac-4abd-b5bb-033e9a284716"
   },
   "outputs": [],
   "source": [
    "# Esto no es necesario\n",
    "from sklearn.preprocessing import StandardScaler\n",
    "sc_X = StandardScaler()\n",
    "X_train = sc_X.fit_transform(X_train)\n",
    "X_test = sc_X.transform(X_test)\n",
    "# Cómo los árboles de decisión no se basan en la distancia (ya sea euclídea, manhattan, etc) no requieren de un reescalado previo. Recordemos que el Random Forest utiliza el algoritmo de Decision Tree, reiteradas en un 'n_estimators' veces para que cada uno prediga y en conjunto se llegue a una predicción por mayoria\n",
    "# Sin embargo, si queremos ver píxel por píxel fino la representación gráfica, podemos dejar el escalado aunque el algoritmo no lo requiera, para visualizarlo mejor"
   ]
  },
  {
   "cell_type": "markdown",
   "metadata": {
    "colab_type": "text",
    "id": "cgweTaJ67BOB"
   },
   "source": [
    "# Ajustar el clasificador  Random Forest en el Conjunto de Entrenamiento"
   ]
  },
  {
   "cell_type": "code",
   "execution_count": 5,
   "metadata": {},
   "outputs": [],
   "source": [
    "from sklearn.ensemble import RandomForestClassifier"
   ]
  },
  {
   "cell_type": "code",
   "execution_count": 6,
   "metadata": {
    "colab": {},
    "colab_type": "code",
    "id": "2AwTWELX7DZQ"
   },
   "outputs": [
    {
     "name": "stdout",
     "output_type": "stream",
     "text": [
      "{'bootstrap': True, 'ccp_alpha': 0.0, 'class_weight': None, 'criterion': 'entropy', 'max_depth': None, 'max_features': 'sqrt', 'max_leaf_nodes': None, 'max_samples': None, 'min_impurity_decrease': 0.0, 'min_samples_leaf': 1, 'min_samples_split': 2, 'min_weight_fraction_leaf': 0.0, 'n_estimators': 10, 'n_jobs': None, 'oob_score': False, 'random_state': 0, 'verbose': 0, 'warm_start': False}\n",
      "0.98\n"
     ]
    }
   ],
   "source": [
    "classifier = RandomForestClassifier(n_estimators = 10, criterion = \"entropy\", random_state = 0) # n_estimators: número de árboles de dedcisión que formaran parte del bosque(por defecto 10), criterion: gini(indice que mide la dispersión/impureza de los datos) o entropy (mide el 'caos' de los datos, la discrepancia entre ellos, minimizando los datos heterogeneos por sub área), max_features: num máximo de rasgos/columnas sobre los cuales dividir el set, max_depth: profundidad de árboles, para evitar que tengan muchas ramificaciones y se ajusten en demasía a los datos cuando no es requerido, min_samples_leaf: min num de obs para conformar un nodo hoja, min_samples_split: min num de muestras para llevar a cabo la división (split)  \n",
    "classifier.fit(X_train, y_train)\n",
    "print(classifier.get_params()) # para ver los parámetros de la regresión hecha\n",
    "print(classifier.score(X_train,y_train)) # vemos el accuracy de la predicción de la clasificación (con datos de entrenamiento)"
   ]
  },
  {
   "cell_type": "markdown",
   "metadata": {
    "colab_type": "text",
    "id": "je3kcRlG7JV5"
   },
   "source": [
    "# Predicción de los resultados con el Conjunto de Testing"
   ]
  },
  {
   "cell_type": "code",
   "execution_count": 7,
   "metadata": {
    "colab": {},
    "colab_type": "code",
    "id": "HS-M9s587Kj3"
   },
   "outputs": [],
   "source": [
    "y_pred  = classifier.predict(X_test)"
   ]
  },
  {
   "cell_type": "markdown",
   "metadata": {},
   "source": [
    "# Elaborar una matriz de confusión"
   ]
  },
  {
   "cell_type": "code",
   "execution_count": 8,
   "metadata": {},
   "outputs": [
    {
     "data": {
      "text/plain": [
       "array([[63,  5],\n",
       "       [ 4, 28]], dtype=int64)"
      ]
     },
     "execution_count": 8,
     "metadata": {},
     "output_type": "execute_result"
    }
   ],
   "source": [
    "from sklearn.metrics import confusion_matrix\n",
    "cm = confusion_matrix(y_test, y_pred)\n",
    "cm\n",
    "# Vemos que el accuracy del modelo con respecto a los datos de test (sin tomar desbalanceo entre clases) es de 91/100 = 0,91\n",
    "# En este caso, solo 5 observaciones fueron catalogadas como compras cuando en verdad no lo fueron, y 4 observaciones fueron catalogadas como no compras cuando en verdad lo fueron\n",
    "# (no compras acertadas:63, compras acertadas:28)\n",
    "# Sin el reescalado tenemos un 0,92 de precisión "
   ]
  },
  {
   "cell_type": "markdown",
   "metadata": {
    "colab_type": "text",
    "id": "JnMLSqzW8NH7"
   },
   "source": [
    "# Representación gráfica de los resultados del algoritmo en el Conjunto de Entrenamiento"
   ]
  },
  {
   "cell_type": "code",
   "execution_count": 11,
   "metadata": {},
   "outputs": [],
   "source": [
    "from matplotlib.colors import ListedColormap"
   ]
  },
  {
   "cell_type": "code",
   "execution_count": 12,
   "metadata": {
    "colab": {},
    "colab_type": "code",
    "id": "1qZ3wRR08Oar"
   },
   "outputs": [
    {
     "data": {
      "image/png": "[encoded data removed]",
      "text/plain": [
       "<Figure size 640x480 with 1 Axes>"
      ]
     },
     "metadata": {},
     "output_type": "display_data"
    }
   ],
   "source": [
    "# Vemos el límite de nuestro clasificador (frontera de decisión) con respecto a los datos de train (98% de accuracy antes marcado). Usamos 2 variables indep para visualizar la clasificación en un gráfico 2D (podemos usar 3 para 3D, o reducir dimensiones si tenemos más))\n",
    "# Crear el grid para el contorno\n",
    "X_set, y_set = X_train, y_train\n",
    "X1, X2 = np.meshgrid(np.arange(start=X_set[:, 0].min() - 1, stop=X_set[:, 0].max() + 1, step=0.01), # el step 0.01 es adecuado para datos reescalados, para datos que no lo están nos conviene poner valores acorde a los observados en el set\n",
    "                     np.arange(start=X_set[:, 1].min() - 1, stop=X_set[:, 1].max() + 1, step=0.01)) # por ej: step=1 en la parte de arriba (x1, años) y step=500 en la parte de abajo (x2, sueldo), sino gastaríamos recursos computacionales pintando miles de puntos que no vamos a llegar a visualizar\n",
    "\n",
    "# Predecir sobre el grid de puntos y reshape para contorno\n",
    "Z = classifier.predict(np.array([X1.ravel(), X2.ravel()]).T).reshape(X1.shape)\n",
    "\n",
    "# Definir la paleta de colores usando códigos RGB \n",
    "colors = [(1, 0, 0), (0, 0.5, 0)]  # rojo (no compra) y verde oscuro (compra) [(valor 0 de pred, valor 1 de pred)]\n",
    "cmap = ListedColormap(colors)\n",
    "\n",
    "# Graficar el contorno y los puntos de datos\n",
    "plt.contourf(X1, X2, Z, alpha=0.75, cmap=cmap)\n",
    "plt.xlim(X1.min(), X1.max())\n",
    "plt.ylim(X2.min(), X2.max())\n",
    "\n",
    "# Graficar los puntos de datos con scatter\n",
    "for i, j in enumerate(np.unique(y_set)):\n",
    "    plt.scatter(X_set[y_set == j, 0], X_set[y_set == j, 1],\n",
    "                color=cmap(i), label=j)\n",
    "plt.title('Random Forest  (Conjunto de Entrenamiento)')\n",
    "plt.xlabel('Edad')\n",
    "plt.ylabel('Sueldo Estimado')\n",
    "plt.legend()\n",
    "plt.show()\n",
    "\n",
    "# Si elevamos mucho el número de árboles que conforman el bosque, podremos entrar en Overffiting, intentando captar el modelo esos valores atípicos del entrenamiento como patrones subyacentes trascendentes en la predicción, cuando en verdad no lo son\n",
    "# Vemos que el gráfico es como un promedio de 10 árboles de decisión que hemos hecho anteriormente, cada uno conformado con k datos diversos del set de entrenamiento, reduciendo un poco el Overffiting que habiamos visto.\n"
   ]
  },
  {
   "cell_type": "markdown",
   "metadata": {},
   "source": [
    "# Representación gráfica de los resultados del algoritmo en el Conjunto de Testing"
   ]
  },
  {
   "cell_type": "code",
   "execution_count": 15,
   "metadata": {},
   "outputs": [
    {
     "data": {
      "image/png": "[encoded data removed]",
      "text/plain": [
       "<Figure size 640x480 with 1 Axes>"
      ]
     },
     "metadata": {},
     "output_type": "display_data"
    }
   ],
   "source": [
    "# Vemos el límite de nuestro clasificador (frontera de decisión) con respecto a los datos de test (91% de accuracy antes marcado). Similar análisis que con la matriz de confusión.\n",
    "# Aplica la misma frontera de decisión conseguida con train a los datos de test. Análisis similar al de la matriz de confusión\n",
    "\n",
    "# Crear el grid para el contorno\n",
    "X_set, y_set = X_test, y_test\n",
    "X1, X2 = np.meshgrid(np.arange(start=X_set[:, 0].min() - 1, stop=X_set[:, 0].max() + 1, step=0.01),\n",
    "                     np.arange(start=X_set[:, 1].min() - 1, stop=X_set[:, 1].max() + 1, step=0.01))\n",
    "\n",
    "# Predecir sobre el grid de puntos y reshape para contorno\n",
    "Z = classifier.predict(np.array([X1.ravel(), X2.ravel()]).T).reshape(X1.shape)\n",
    "\n",
    "# Definir la paleta de colores usando códigos RGB \n",
    "colors = [(1, 0, 0), (0, 0.5, 0)]  # rojo (no compra) y verde oscuro (compra) [(valor 0 de pred, valor 1 de pred)]\n",
    "cmap = ListedColormap(colors)\n",
    "\n",
    "# Graficar el contorno y los puntos de datos\n",
    "plt.contourf(X1, X2, Z, alpha=0.75, cmap=cmap)\n",
    "plt.xlim(X1.min(), X1.max())\n",
    "plt.ylim(X2.min(), X2.max())\n",
    "\n",
    "# Graficar los puntos de datos con scatter\n",
    "for i, j in enumerate(np.unique(y_set)):\n",
    "    plt.scatter(X_set[y_set == j, 0], X_set[y_set == j, 1],\n",
    "                color=cmap(i), label=j)\n",
    "plt.title('Random Forest (Conjunto de Test)')\n",
    "plt.xlabel('Edad')\n",
    "plt.ylabel('Sueldo Estimado')\n",
    "plt.legend()\n",
    "plt.show()\n",
    "\n",
    "# En general, vemos que los resultados son buenos, pero seguimos visualizando Overffiting en algunas partes del gráfico que se identificaron durante el entrenamiento sin utilidad aparente para predecir \n",
    "# (rectángulos/lineas muy pequeñas dentro de predominancias absolutas de otro color significa que el entrenamiento se vió sesgado por un punto concreto del entrenamiento considerado por nosotros como outlier)"
   ]
  }
 ],
 "metadata": {
  "colab": {
   "collapsed_sections": [],
   "name": "multiple_linear_regression_new_version.ipynb",
   "provenance": [],
   "toc_visible": true
  },
  "kernelspec": {
   "display_name": "Python 3 (ipykernel)",
   "language": "python",
   "name": "python3"
  },
  "language_info": {
   "codemirror_mode": {
    "name": "ipython",
    "version": 3
   },
   "file_extension": ".py",
   "mimetype": "text/x-python",
   "name": "python",
   "nbconvert_exporter": "python",
   "pygments_lexer": "ipython3",
   "version": "3.11.7"
  }
 },
 "nbformat": 4,
 "nbformat_minor": 4
}
